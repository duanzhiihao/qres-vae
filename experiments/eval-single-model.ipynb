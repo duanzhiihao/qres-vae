{
 "cells": [
  {
   "cell_type": "code",
   "execution_count": 1,
   "metadata": {},
   "outputs": [],
   "source": [
    "import sys\n",
    "import json\n",
    "import pickle\n",
    "from tqdm import tqdm\n",
    "from pathlib import Path\n",
    "from collections import defaultdict\n",
    "from PIL import Image\n",
    "import math\n",
    "import torch\n",
    "import torchvision as tv\n",
    "import torchvision.transforms.functional as tvf\n",
    "torch.set_grad_enabled(False)\n",
    "\n",
    "sys.path.append('../')\n",
    "from models.library import qres34m"
   ]
  },
  {
   "cell_type": "code",
   "execution_count": 2,
   "metadata": {},
   "outputs": [
    {
     "name": "stdout",
     "output_type": "stream",
     "text": [
      "Using lmb=2048. Model weights=..\\checkpoints\\qres34m\\lmb2048\\last_ema.pt\n"
     ]
    }
   ],
   "source": [
    "weights_root = Path('../checkpoints/qres34m')\n",
    "# save_json_path = '../results/kodak-qres34m.json'\n",
    "\n",
    "# initialize model\n",
    "lmb = 2048\n",
    "model = qres34m(lmb=lmb)\n",
    "wpath = weights_root / f'lmb{lmb}/last_ema.pt'\n",
    "msd = torch.load(wpath)['model']\n",
    "model.load_state_dict(msd)\n",
    "\n",
    "# model.compress_mode()\n",
    "model = model.cuda()\n",
    "model.eval()\n",
    "print(f'Using lmb={lmb}. Model weights={wpath}')\n"
   ]
  },
  {
   "cell_type": "code",
   "execution_count": 3,
   "metadata": {},
   "outputs": [
    {
     "name": "stderr",
     "output_type": "stream",
     "text": [
      "100%|██████████| 24/24 [00:11<00:00,  2.13it/s]\n"
     ]
    }
   ],
   "source": [
    "dataset_root = 'd:/datasets/improcessing/kodak'\n",
    "\n",
    "\n",
    "single_model_bpps  = defaultdict(float)\n",
    "single_model_psnr = defaultdict(float)\n",
    "# for keep in range(13):\n",
    "\n",
    "device = next(model.parameters()).device\n",
    "img_paths = list(Path(dataset_root).rglob('*.*'))\n",
    "for impath in tqdm(img_paths):\n",
    "    # read image\n",
    "    im = tvf.to_tensor(Image.open(impath)).unsqueeze_(0).to(device=device)\n",
    "    _, imC, imH, imW = im.shape\n",
    "    # compression\n",
    "    # compressed_obj = model.compress(im)\n",
    "    stats_all = model.forward_get_latents(im)\n",
    "\n",
    "    L = len(stats_all)\n",
    "    for keep in range(1, L+1):\n",
    "    # for keep in [L]:\n",
    "        # keep only a subset of latents\n",
    "        latents = [stat['z'] if (i < keep) else None for (i,stat) in enumerate(stats_all)]\n",
    "        # compute bpp\n",
    "        kl_divs = [stat['kl'] for (i,stat) in enumerate(stats_all) if (i < keep)]\n",
    "        bpp = sum([kl.sum(dim=(1,2,3)) for kl in kl_divs]) / (imH * imW) * math.log2(math.e)\n",
    "        # print(bpp, type(bpp))\n",
    "        cond_sample = model.cond_sample(latents, temprature=0)\n",
    "        # print(f'Keep={keep}, bpp={kl.item()}')\n",
    "        mse = torch.nn.functional.mse_loss(im, cond_sample, reduction='mean')\n",
    "        psnr = -10.0 * math.log10(mse.item())\n",
    "        # print(bpp.item(), mse.item())\n",
    "\n",
    "        single_model_bpps[keep] += float(bpp)\n",
    "        single_model_psnr[keep] += psnr\n",
    "    # print('debug'); break\n",
    "\n",
    "# sort the R-D stats\n",
    "keys = list(single_model_bpps.keys())\n",
    "keys.sort()\n",
    "# average psnr and bpp over all images\n",
    "count = float(len(img_paths))\n",
    "single_model_bpps  = [single_model_bpps[k] /count for k in keys]\n",
    "single_model_psnr = [single_model_psnr[k]/count for k in keys]\n",
    "\n",
    "debug = 1"
   ]
  },
  {
   "cell_type": "code",
   "execution_count": 4,
   "metadata": {},
   "outputs": [],
   "source": [
    "results_path = Path().cwd() / '../results/kodak-qres34m.json'\n",
    "with open(results_path, 'r') as f:\n",
    "    results_qres34m = json.load(f)"
   ]
  },
  {
   "cell_type": "code",
   "execution_count": 5,
   "metadata": {},
   "outputs": [
    {
     "data": {
      "image/png": "[encoded data removed]",
      "text/plain": [
       "<Figure size 432x432 with 1 Axes>"
      ]
     },
     "metadata": {
      "needs_background": "light"
     },
     "output_type": "display_data"
    }
   ],
   "source": [
    "import matplotlib.pyplot as plt\n",
    "plt.figure(figsize=(6,6))\n",
    "l1 = plt.plot(results_qres34m['bpp'], results_qres34m['psnr'],\n",
    "              label=f'One model for each bit rate', marker='.', markersize=12)\n",
    "l1 = plt.plot(single_model_bpps, single_model_psnr,\n",
    "              label=f'One model for all bit rates', marker='.', markersize=12)\n",
    "# l2 = plt.plot(psnr2, lr2, label=f'PSNR-logBPP {name2}',\n",
    "#                 marker='.', markersize=12, linestyle='None')\n",
    "plt.legend(loc='lower right')\n",
    "plt.tight_layout()\n",
    "# plt.xlim(np.concatenate([psnr1,psnr2]).min()-1, np.concatenate([psnr1,psnr2]).max()+1)\n",
    "# plt.ylim(np.concatenate([lr1, lr2]).min()-0.1, np.concatenate([lr1, lr2]).max()+0.1)\n",
    "plt.xlabel('Bpp')\n",
    "plt.ylabel('PSNR')\n",
    "plt.show()"
   ]
  },
  {
   "cell_type": "code",
   "execution_count": null,
   "metadata": {},
   "outputs": [],
   "source": []
  }
 ],
 "metadata": {
  "kernelspec": {
   "display_name": "Python 3.9.7 ('pt110env')",
   "language": "python",
   "name": "python3"
  },
  "language_info": {
   "codemirror_mode": {
    "name": "ipython",
    "version": 3
   },
   "file_extension": ".py",
   "mimetype": "text/x-python",
   "name": "python",
   "nbconvert_exporter": "python",
   "pygments_lexer": "ipython3",
   "version": "3.9.7"
  },
  "orig_nbformat": 4,
  "vscode": {
   "interpreter": {
    "hash": "dd99ce241fc9a98adb16dacebaa58469dd0c84ca3cfa9b25e7e9cb4caa7bb934"
   }
  }
 },
 "nbformat": 4,
 "nbformat_minor": 2
}
