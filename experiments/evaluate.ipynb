{
 "cells": [
  {
   "cell_type": "code",
   "execution_count": 1,
   "metadata": {},
   "outputs": [],
   "source": [
    "from collections import defaultdict\n",
    "from pathlib import Path\n",
    "import torch\n",
    "torch.set_grad_enabled(False)\n",
    "\n",
    "from mycv.datasets.improb import simple_evaluate\n",
    "\n",
    "weights_root = Path.cwd() / '../mycv/weights/my-vaes'"
   ]
  },
  {
   "cell_type": "code",
   "execution_count": 2,
   "metadata": {},
   "outputs": [
    {
     "name": "stdout",
     "output_type": "stream",
     "text": [
      "Scanning through images in d:\\datasets\\improcessing\\kodak...\n"
     ]
    },
    {
     "name": "stderr",
     "output_type": "stream",
     "text": [
      "24it [00:00, ?it/s]\n"
     ]
    },
    {
     "name": "stdout",
     "output_type": "stream",
     "text": [
      "Evaluating <class 'mycv.models.vae.qres.qresvae.HierarchicalVAE'>, device=cuda:0, dtype=torch.float32\n",
      "batch_size=1, num_workers=0\n"
     ]
    },
    {
     "name": "stderr",
     "output_type": "stream",
     "text": [
      "total_num=24, loss=0.1095, kl=0.04148, mse=0.06806, bppix=0.1796, psnr=30.02, ms-ssim=0.9391, real-bppix=0.184, real-psnr=30.02,: 100%|██████████| 24/24 [00:07<00:00,  3.01it/s] \n"
     ]
    },
    {
     "name": "stdout",
     "output_type": "stream",
     "text": [
      "Scanning through images in d:\\datasets\\improcessing\\kodak...\n"
     ]
    },
    {
     "name": "stderr",
     "output_type": "stream",
     "text": [
      "24it [00:00, 24036.13it/s]\n"
     ]
    },
    {
     "name": "stdout",
     "output_type": "stream",
     "text": [
      "Evaluating <class 'mycv.models.vae.qres.qresvae.HierarchicalVAE'>, device=cuda:0, dtype=torch.float32\n",
      "batch_size=1, num_workers=0\n"
     ]
    },
    {
     "name": "stderr",
     "output_type": "stream",
     "text": [
      "total_num=24, loss=0.155, kl=0.06859, mse=0.08642, bppix=0.2968, psnr=31.97, ms-ssim=0.9624, real-bppix=0.3018, real-psnr=31.97,: 100%|██████████| 24/24 [00:06<00:00,  3.96it/s] \n"
     ]
    },
    {
     "name": "stdout",
     "output_type": "stream",
     "text": [
      "Scanning through images in d:\\datasets\\improcessing\\kodak...\n"
     ]
    },
    {
     "name": "stderr",
     "output_type": "stream",
     "text": [
      "24it [00:00, ?it/s]\n"
     ]
    },
    {
     "name": "stdout",
     "output_type": "stream",
     "text": [
      "Evaluating <class 'mycv.models.vae.qres.qresvae.HierarchicalVAE'>, device=cuda:0, dtype=torch.float32\n",
      "batch_size=1, num_workers=0\n"
     ]
    },
    {
     "name": "stderr",
     "output_type": "stream",
     "text": [
      "total_num=24, loss=0.2121, kl=0.1035, mse=0.1086, bppix=0.4478, psnr=33.89, ms-ssim=0.9753, real-bppix=0.4526, real-psnr=33.89,: 100%|██████████| 24/24 [00:06<00:00,  3.95it/s] \n"
     ]
    },
    {
     "name": "stdout",
     "output_type": "stream",
     "text": [
      "Scanning through images in d:\\datasets\\improcessing\\kodak...\n"
     ]
    },
    {
     "name": "stderr",
     "output_type": "stream",
     "text": [
      "24it [00:00, 23973.16it/s]\n"
     ]
    },
    {
     "name": "stdout",
     "output_type": "stream",
     "text": [
      "Evaluating <class 'mycv.models.vae.qres.qresvae.HierarchicalVAE'>, device=cuda:0, dtype=torch.float32\n",
      "batch_size=1, num_workers=0\n"
     ]
    },
    {
     "name": "stderr",
     "output_type": "stream",
     "text": [
      "total_num=24, loss=0.2919, kl=0.1553, mse=0.1365, bppix=0.6723, psnr=35.85, ms-ssim=0.9841, real-bppix=0.676, real-psnr=35.85,: 100%|██████████| 24/24 [00:06<00:00,  3.95it/s] \n"
     ]
    },
    {
     "name": "stdout",
     "output_type": "stream",
     "text": [
      "Scanning through images in d:\\datasets\\improcessing\\kodak...\n"
     ]
    },
    {
     "name": "stderr",
     "output_type": "stream",
     "text": [
      "24it [00:00, 23996.02it/s]\n"
     ]
    },
    {
     "name": "stdout",
     "output_type": "stream",
     "text": [
      "Evaluating <class 'mycv.models.vae.qres.qresvae.HierarchicalVAE'>, device=cuda:0, dtype=torch.float32\n",
      "batch_size=1, num_workers=0\n"
     ]
    },
    {
     "name": "stderr",
     "output_type": "stream",
     "text": [
      "total_num=24, loss=0.3799, kl=0.2195, mse=0.1604, bppix=0.9499, psnr=38.14, ms-ssim=0.9908, real-bppix=0.9546, real-psnr=38.14,: 100%|██████████| 24/24 [00:06<00:00,  3.93it/s]\n"
     ]
    },
    {
     "name": "stdout",
     "output_type": "stream",
     "text": [
      "Scanning through images in d:\\datasets\\improcessing\\kodak...\n"
     ]
    },
    {
     "name": "stderr",
     "output_type": "stream",
     "text": [
      "24it [00:00, ?it/s]\n"
     ]
    },
    {
     "name": "stdout",
     "output_type": "stream",
     "text": [
      "Evaluating <class 'mycv.models.vae.qres.qresvae.HierarchicalVAE'>, device=cuda:0, dtype=torch.float32\n",
      "batch_size=1, num_workers=0\n"
     ]
    },
    {
     "name": "stderr",
     "output_type": "stream",
     "text": [
      "total_num=24, loss=0.4935, kl=0.2964, mse=0.1971, bppix=1.283, psnr=40.23, ms-ssim=0.9941, real-bppix=1.287, real-psnr=40.23,: 100%|██████████| 24/24 [00:06<00:00,  3.86it/s]\n"
     ]
    },
    {
     "name": "stdout",
     "output_type": "stream",
     "text": [
      "Scanning through images in d:\\datasets\\improcessing\\kodak...\n"
     ]
    },
    {
     "name": "stderr",
     "output_type": "stream",
     "text": [
      "24it [00:00, 24001.74it/s]\n"
     ]
    },
    {
     "name": "stdout",
     "output_type": "stream",
     "text": [
      "Evaluating <class 'mycv.models.vae.qres.qresvae.HierarchicalVAE'>, device=cuda:0, dtype=torch.float32\n",
      "batch_size=1, num_workers=0\n"
     ]
    },
    {
     "name": "stderr",
     "output_type": "stream",
     "text": [
      "total_num=24, loss=0.6517, kl=0.403, mse=0.2487, bppix=1.744, psnr=42.21, ms-ssim=0.9961, real-bppix=1.749, real-psnr=42.21,: 100%|██████████| 24/24 [00:06<00:00,  3.83it/s] \n"
     ]
    },
    {
     "name": "stdout",
     "output_type": "stream",
     "text": [
      "Scanning through images in d:\\datasets\\improcessing\\kodak...\n"
     ]
    },
    {
     "name": "stderr",
     "output_type": "stream",
     "text": [
      "24it [00:00, 23956.04it/s]\n"
     ]
    },
    {
     "name": "stdout",
     "output_type": "stream",
     "text": [
      "Evaluating <class 'mycv.models.vae.qres.qresvae.HierarchicalVAE'>, device=cuda:0, dtype=torch.float32\n",
      "batch_size=1, num_workers=0\n"
     ]
    },
    {
     "name": "stderr",
     "output_type": "stream",
     "text": [
      "total_num=24, loss=0.849, kl=0.5435, mse=0.3055, bppix=2.352, psnr=44.31, ms-ssim=0.9976, real-bppix=2.357, real-psnr=44.31,: 100%|██████████| 24/24 [00:06<00:00,  3.80it/s] "
     ]
    },
    {
     "name": "stdout",
     "output_type": "stream",
     "text": [
      "loss         = [0.1095452358, 0.1550013646, 0.2120844858, 0.2918679155, 0.3799289309, 0.4934807183, 0.6517012727, 0.8489855751]\n",
      "kl           = [0.0414848763, 0.0685851799, 0.1034742329, 0.1553431345, 0.2194844863, 0.2963687873, 0.4030155725, 0.5435158262]\n",
      "mse          = [0.0680603586, 0.0864161841, 0.1086102531, 0.1365247843, 0.1604444465, 0.1971119263, 0.2486856989, 0.3054697544]\n",
      "bppix        = [0.1795500761, 0.2968424967, 0.4478452883, 0.6723383096, 0.9499475398, 1.2827093394, 1.7442857038, 2.3523827615]\n",
      "psnr         = [30.017866015, 31.973801732, 33.887499862, 35.849589026, 38.143325396, 40.229316274, 42.210288685, 44.313577042]\n",
      "ms-ssim      = [0.9391223390, 0.9624467889, 0.9753316640, 0.9841089397, 0.9907682786, 0.9940640007, 0.9960501591, 0.9975985462]\n",
      "real-bppix   = [0.1839658949, 0.3018018934, 0.4525799221, 0.6759821573, 0.9546271430, 1.2871958414, 1.7485911051, 2.3573125203]\n",
      "real-psnr    = [30.017866015, 31.973801732, 33.887499862, 35.849589026, 38.143325396, 40.229316274, 42.210288685, 44.313577042]\n"
     ]
    },
    {
     "name": "stderr",
     "output_type": "stream",
     "text": [
      "\n"
     ]
    }
   ],
   "source": [
    "from mycv.models.vae.qres.library import dh_64s4x\n",
    "weights_dir = weights_root / 'dh-64s4x'\n",
    "\n",
    "stats = defaultdict(list)\n",
    "for lmb in [16, 32, 64, 128, 256, 512, 1024, 2048]:\n",
    "    # initialize model\n",
    "    model = dh_64s4x(lmb=lmb)\n",
    "    model = model.cuda()\n",
    "    model.eval()\n",
    "\n",
    "    wpath = weights_dir / f'dh_64s4x-lmb{lmb}/last_ema.pt'\n",
    "    msd = torch.load(wpath)['model']\n",
    "    model.load_state_dict(msd)\n",
    "    model.compress_mode()\n",
    "\n",
    "    results = simple_evaluate(model, dataset_name='kodak', batch_size=1)\n",
    "    # print(results)\n",
    "    for k,v in results.items():\n",
    "        stats[k].append(v)\n",
    "\n",
    "for k, vlist in stats.items():\n",
    "    vlist_str = ', '.join([f'{v:.12f}'[:12] for v in vlist])\n",
    "    print(f'{k:<12s} = [{vlist_str}]')"
   ]
  },
  {
   "cell_type": "code",
   "execution_count": 3,
   "metadata": {},
   "outputs": [
    {
     "name": "stdout",
     "output_type": "stream",
     "text": [
      "Scanning through images in d:\\datasets\\celeba\\test64...\n"
     ]
    },
    {
     "name": "stderr",
     "output_type": "stream",
     "text": [
      "19962it [00:00, 166661.75it/s]\n"
     ]
    },
    {
     "name": "stdout",
     "output_type": "stream",
     "text": [
      "Evaluating <class 'mycv.models.vae.qres.qresvae.HierarchicalVAE'>, device=cuda:0, dtype=torch.float32\n",
      "batch_size=128, num_workers=2\n"
     ]
    },
    {
     "name": "stderr",
     "output_type": "stream",
     "text": [
      "total_num=19962, loss=0.08942, kl=0.03688, 1-ms=0.05254, bppix=0.1596, psnr=25.18, ms-ssim=0.9781,: 100%|██████████| 156/156 [00:26<00:00,  5.94it/s]\n"
     ]
    },
    {
     "name": "stdout",
     "output_type": "stream",
     "text": [
      "Scanning through images in d:\\datasets\\celeba\\test64...\n"
     ]
    },
    {
     "name": "stderr",
     "output_type": "stream",
     "text": [
      "19962it [00:00, 269250.57it/s]\n"
     ]
    },
    {
     "name": "stdout",
     "output_type": "stream",
     "text": [
      "Evaluating <class 'mycv.models.vae.qres.qresvae.HierarchicalVAE'>, device=cuda:0, dtype=torch.float32\n",
      "batch_size=128, num_workers=2\n"
     ]
    },
    {
     "name": "stderr",
     "output_type": "stream",
     "text": [
      "total_num=19962, loss=0.1189, kl=0.05892, 1-ms=0.05999, bppix=0.255, psnr=27.03, ms-ssim=0.9873,: 100%|██████████| 156/156 [00:13<00:00, 11.33it/s] \n"
     ]
    },
    {
     "name": "stdout",
     "output_type": "stream",
     "text": [
      "Scanning through images in d:\\datasets\\celeba\\test64...\n"
     ]
    },
    {
     "name": "stderr",
     "output_type": "stream",
     "text": [
      "19962it [00:00, 165499.51it/s]\n"
     ]
    },
    {
     "name": "stdout",
     "output_type": "stream",
     "text": [
      "Evaluating <class 'mycv.models.vae.qres.qresvae.HierarchicalVAE'>, device=cuda:0, dtype=torch.float32\n",
      "batch_size=128, num_workers=2\n"
     ]
    },
    {
     "name": "stderr",
     "output_type": "stream",
     "text": [
      "total_num=19962, loss=0.1674, kl=0.08787, 1-ms=0.07952, bppix=0.3803, psnr=28.28, ms-ssim=0.9916,: 100%|██████████| 156/156 [00:13<00:00, 11.45it/s]\n"
     ]
    },
    {
     "name": "stdout",
     "output_type": "stream",
     "text": [
      "Scanning through images in d:\\datasets\\celeba\\test64...\n"
     ]
    },
    {
     "name": "stderr",
     "output_type": "stream",
     "text": [
      "19962it [00:00, 168403.19it/s]\n"
     ]
    },
    {
     "name": "stdout",
     "output_type": "stream",
     "text": [
      "Evaluating <class 'mycv.models.vae.qres.qresvae.HierarchicalVAE'>, device=cuda:0, dtype=torch.float32\n",
      "batch_size=128, num_workers=2\n"
     ]
    },
    {
     "name": "stderr",
     "output_type": "stream",
     "text": [
      "total_num=19962, loss=0.225, kl=0.1193, 1-ms=0.1058, bppix=0.5162, psnr=29.44, ms-ssim=0.9944,: 100%|██████████| 156/156 [00:13<00:00, 11.59it/s] \n"
     ]
    },
    {
     "name": "stdout",
     "output_type": "stream",
     "text": [
      "Scanning through images in d:\\datasets\\celeba\\test64...\n"
     ]
    },
    {
     "name": "stderr",
     "output_type": "stream",
     "text": [
      "19962it [00:00, 167513.03it/s]\n"
     ]
    },
    {
     "name": "stdout",
     "output_type": "stream",
     "text": [
      "Evaluating <class 'mycv.models.vae.qres.qresvae.HierarchicalVAE'>, device=cuda:0, dtype=torch.float32\n",
      "batch_size=128, num_workers=2\n"
     ]
    },
    {
     "name": "stderr",
     "output_type": "stream",
     "text": [
      "total_num=19962, loss=0.3021, kl=0.1613, 1-ms=0.1408, bppix=0.6983, psnr=30.76, ms-ssim=0.9963,: 100%|██████████| 156/156 [00:13<00:00, 11.39it/s]\n"
     ]
    },
    {
     "name": "stdout",
     "output_type": "stream",
     "text": [
      "Scanning through images in d:\\datasets\\celeba\\test64...\n"
     ]
    },
    {
     "name": "stderr",
     "output_type": "stream",
     "text": [
      "19962it [00:00, 297681.16it/s]\n"
     ]
    },
    {
     "name": "stdout",
     "output_type": "stream",
     "text": [
      "Evaluating <class 'mycv.models.vae.qres.qresvae.HierarchicalVAE'>, device=cuda:0, dtype=torch.float32\n",
      "batch_size=128, num_workers=2\n"
     ]
    },
    {
     "name": "stderr",
     "output_type": "stream",
     "text": [
      "total_num=19962, loss=0.4206, kl=0.2093, 1-ms=0.2112, bppix=0.906, psnr=31.64, ms-ssim=0.9972,: 100%|██████████| 156/156 [00:13<00:00, 11.17it/s] "
     ]
    },
    {
     "name": "stdout",
     "output_type": "stream",
     "text": [
      "loss         = [0.0894202955, 0.1189151866, 0.1673885759, 0.2250479961, 0.3020993618, 0.4205616143]\n",
      "kl           = [0.0368799307, 0.0589234038, 0.0878725139, 0.1192580291, 0.1613483537, 0.2093272806]\n",
      "1-ms         = [0.0525403637, 0.0599917818, 0.0795160615, 0.1057899663, 0.1407510069, 0.2112343309]\n",
      "bppix        = [0.1596194794, 0.2550255077, 0.3803197203, 0.5161589018, 0.6983294096, 0.9059862892]\n",
      "psnr         = [25.183222741, 27.029023198, 28.283667112, 29.437971485, 30.759501795, 31.638951780]\n",
      "ms-ssim      = [0.9780782941, 0.9872698184, 0.9916148896, 0.9943813795, 0.9962763363, 0.9972369268]\n"
     ]
    },
    {
     "name": "stderr",
     "output_type": "stream",
     "text": [
      "\n"
     ]
    }
   ],
   "source": [
    "from mycv.models.vae.qres.library import dhx_celeb64s4_ms\n",
    "\n",
    "weights_dir = weights_root / 'dhx-celeb64-ms'\n",
    "\n",
    "stats = defaultdict(list)\n",
    "for lmb in [2, 4, 8, 16, 32, 64]:\n",
    "    # initialize model\n",
    "    model = dhx_celeb64s4_ms(lmb=lmb)\n",
    "    model = model.cuda()\n",
    "    model.eval()\n",
    "\n",
    "    wpath = weights_dir / f'dhx-celeb64s4-ms-lmb{lmb}/last_ema.pt'\n",
    "    msd = torch.load(wpath)['model']\n",
    "    model.load_state_dict(msd)\n",
    "    # model.compress_mode()\n",
    "\n",
    "    results = simple_evaluate(model, dataset_name='celeba-test64', batch_size=128, workers=2)\n",
    "    # print(results)\n",
    "    for k,v in results.items():\n",
    "        stats[k].append(v)\n",
    "\n",
    "for k, vlist in stats.items():\n",
    "    vlist_str = ', '.join([f'{v:.12f}'[:12] for v in vlist])\n",
    "    print(f'{k:<12s} = [{vlist_str}]')"
   ]
  }
 ],
 "metadata": {
  "interpreter": {
   "hash": "dd99ce241fc9a98adb16dacebaa58469dd0c84ca3cfa9b25e7e9cb4caa7bb934"
  },
  "kernelspec": {
   "display_name": "Python 3.9.7 ('pt110env')",
   "language": "python",
   "name": "python3"
  },
  "language_info": {
   "codemirror_mode": {
    "name": "ipython",
    "version": 3
   },
   "file_extension": ".py",
   "mimetype": "text/x-python",
   "name": "python",
   "nbconvert_exporter": "python",
   "pygments_lexer": "ipython3",
   "version": "3.9.7"
  },
  "orig_nbformat": 4
 },
 "nbformat": 4,
 "nbformat_minor": 2
}
