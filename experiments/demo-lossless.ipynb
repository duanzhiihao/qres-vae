{
 "cells": [
  {
   "cell_type": "code",
   "execution_count": 1,
   "metadata": {},
   "outputs": [],
   "source": [
    "import pickle\n",
    "from pathlib import Path\n",
    "from PIL import Image\n",
    "import torch\n",
    "import torchvision as tv\n",
    "import torchvision.transforms.functional as tvf\n",
    "\n",
    "torch.set_grad_enabled(False)\n",
    "\n",
    "import sys\n",
    "sys.path.append(str(Path().cwd().parent))\n",
    "from models.library import qres34m_lossless"
   ]
  },
  {
   "cell_type": "markdown",
   "metadata": {},
   "source": [
    "Initialize model and load pre-trained weights"
   ]
  },
  {
   "cell_type": "code",
   "execution_count": 2,
   "metadata": {},
   "outputs": [],
   "source": [
    "model = qres34m_lossless()\n",
    "\n",
    "msd = torch.load('../checkpoints/qres34m-lossless/last_ema.pt')['model']\n",
    "model.load_state_dict(msd)\n",
    "\n",
    "model.eval()\n",
    "model.compress_mode()"
   ]
  },
  {
   "cell_type": "markdown",
   "metadata": {},
   "source": [
    "Compress an RGB image"
   ]
  },
  {
   "cell_type": "code",
   "execution_count": 3,
   "metadata": {},
   "outputs": [],
   "source": [
    "img_path = '../images/collie128.png'\n",
    "\n",
    "im = tvf.to_tensor(Image.open(img_path)).unsqueeze_(0)\n",
    "compressed_obj = model.compress(im)"
   ]
  },
  {
   "cell_type": "markdown",
   "metadata": {},
   "source": [
    "Save to file, compute bit rate"
   ]
  },
  {
   "cell_type": "code",
   "execution_count": 4,
   "metadata": {},
   "outputs": [
    {
     "name": "stdout",
     "output_type": "stream",
     "text": [
      "Compressed file size: 286112 bits = 17.462891 bpp\n"
     ]
    }
   ],
   "source": [
    "save_path = '../results/image.bits'\n",
    "with open(save_path, 'wb') as f:\n",
    "    pickle.dump(compressed_obj, file=f)\n",
    "\n",
    "total_bits = Path(save_path).stat().st_size * 8\n",
    "bpp = total_bits / (im.shape[2] * im.shape[3])\n",
    "print(f'Compressed file size: {total_bits} bits = {bpp:.6f} bpp')"
   ]
  },
  {
   "cell_type": "markdown",
   "metadata": {},
   "source": [
    "Decompress and reconstruct the image"
   ]
  },
  {
   "cell_type": "code",
   "execution_count": 5,
   "metadata": {},
   "outputs": [],
   "source": [
    "with open(save_path,'rb') as f:\n",
    "    compressed_obj = pickle.load(file=f)\n",
    "\n",
    "im_hat = model.decompress(compressed_obj).squeeze(0).cpu()"
   ]
  },
  {
   "cell_type": "markdown",
   "metadata": {},
   "source": [
    "Check if the compression is lossless"
   ]
  },
  {
   "cell_type": "code",
   "execution_count": 6,
   "metadata": {},
   "outputs": [
    {
     "data": {
      "text/plain": [
       "True"
      ]
     },
     "execution_count": 6,
     "metadata": {},
     "output_type": "execute_result"
    }
   ],
   "source": [
    "real = tv.io.read_image(str(img_path))\n",
    "fake = torch.round_(im_hat * 255.0).to(dtype=torch.uint8)\n",
    "\n",
    "torch.equal(real, fake)"
   ]
  }
 ],
 "metadata": {
  "kernelspec": {
   "display_name": "Python 3.9.7 ('pt110env')",
   "language": "python",
   "name": "python3"
  },
  "language_info": {
   "codemirror_mode": {
    "name": "ipython",
    "version": 3
   },
   "file_extension": ".py",
   "mimetype": "text/x-python",
   "name": "python",
   "nbconvert_exporter": "python",
   "pygments_lexer": "ipython3",
   "version": "3.9.7"
  },
  "orig_nbformat": 4,
  "vscode": {
   "interpreter": {
    "hash": "dd99ce241fc9a98adb16dacebaa58469dd0c84ca3cfa9b25e7e9cb4caa7bb934"
   }
  }
 },
 "nbformat": 4,
 "nbformat_minor": 2
}
