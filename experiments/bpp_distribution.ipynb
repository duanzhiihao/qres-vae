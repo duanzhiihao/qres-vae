{
 "cells": [
  {
   "cell_type": "code",
   "execution_count": 1,
   "metadata": {},
   "outputs": [],
   "source": [
    "import sys\n",
    "from pathlib import Path\n",
    "from tqdm import tqdm\n",
    "import torch\n",
    "import torchvision as tv\n",
    "\n",
    "pwd = Path('.').absolute()\n",
    "sys.path.append('../')\n",
    "from models.library import qres34m"
   ]
  },
  {
   "cell_type": "code",
   "execution_count": 2,
   "metadata": {},
   "outputs": [],
   "source": [
    "img_dir = Path('d:/datasets/improcessing/kodak')\n",
    "fig_save_path = pwd / '../results/bits_distribution.pdf'\n",
    "\n",
    "def get_kl_distribution(model: torch.nn.Module):\n",
    "    device = next(model.parameters()).device\n",
    "    img_paths = list(img_dir.rglob('*.*'))\n",
    "    bpps_all = None\n",
    "    for impath in img_paths:\n",
    "        im = tv.io.read_image(str(impath)).unsqueeze_(0).float().div_(255.0).to(device=device)\n",
    "        _ = model(im)\n",
    "        bpps = torch.Tensor(model._stats_log[f'eval_bppix'])\n",
    "        bpps_all = bpps if (bpps_all is None) else (bpps_all + bpps)\n",
    "    # print(bpps_all)\n",
    "    bpps_all = bpps_all / bpps_all.sum()\n",
    "    return bpps_all\n"
   ]
  },
  {
   "cell_type": "code",
   "execution_count": 3,
   "metadata": {},
   "outputs": [
    {
     "name": "stderr",
     "output_type": "stream",
     "text": [
      "100%|██████████| 7/7 [00:13<00:00,  1.96s/it]\n"
     ]
    }
   ],
   "source": [
    "model = qres34m()\n",
    "model = model.cuda()\n",
    "model.eval()\n",
    "\n",
    "lambdas = [16, 64, 128, 256, 512, 1024, 2048]\n",
    "stats_all = []\n",
    "for lmb in tqdm(lambdas):\n",
    "    wpath = pwd / f'../checkpoints/qres34m/lmb{lmb}/last_ema.pt'\n",
    "\n",
    "    msd = torch.load(wpath)['model']\n",
    "    out = model.load_state_dict(msd, strict=True)\n",
    "    bpps = get_kl_distribution(model)\n",
    "    # stat = [f'lmb={lmb}'] + bpps.tolist()\n",
    "    stats_all.append(bpps)\n",
    "stats_all = torch.stack(stats_all, dim=0)"
   ]
  },
  {
   "cell_type": "code",
   "execution_count": 4,
   "metadata": {},
   "outputs": [
    {
     "data": {
      "image/png": "[encoded data removed]",
      "text/plain": [
       "<Figure size 964.8x288 with 1 Axes>"
      ]
     },
     "metadata": {
      "needs_background": "light"
     },
     "output_type": "display_data"
    }
   ],
   "source": [
    "import numpy as np\n",
    "import matplotlib.pyplot as plt\n",
    "\n",
    "data = stats_all.numpy()\n",
    "data = np.flip(data, axis=1) # change the order to z12 -> z1\n",
    "data_cum = data.cumsum(axis=1)\n",
    "# category_colors = plt.get_cmap('Set3')\n",
    "category_colors = plt.get_cmap('tab20')\n",
    "category_colors = category_colors(np.linspace(0, 1, data.shape[1]))\n",
    "\n",
    "fig, ax = plt.subplots(figsize=(13.4, 4))\n",
    "ax.invert_yaxis()\n",
    "ax.xaxis.set_visible(False)\n",
    "ax.set_xlim(0, np.sum(data, axis=1).max())\n",
    "\n",
    "labels         = [f'$\\lambda = {lmb}$' for lmb in lambdas]\n",
    "category_names = [f'$Z_{{ {i} }}$'     for i   in range(12, 0, -1)]\n",
    "for i, (colname, color) in enumerate(zip(category_names, category_colors)):\n",
    "    widths = data[:, i]\n",
    "    starts = data_cum[:, i] - widths\n",
    "    rects = ax.barh(labels, widths, left=starts, height=0.8,\n",
    "                    label=colname, color=color)\n",
    "\n",
    "    # r, g, b, _ = color\n",
    "    # text_color = 'white' if r * g * b < 0.5 else 'darkgrey'\n",
    "    # ax.bar_label(rects, label_type='center', color=text_color)\n",
    "ax.legend(ncol=len(category_names), loc='lower left', fontsize=12.2,\n",
    "          bbox_to_anchor=(0, -0.16), handletextpad=0.24)\n",
    "ax.set_title('Distribution of bit rates over latent variables')\n",
    "fig.tight_layout()\n",
    "fig.savefig(fig_save_path)"
   ]
  }
 ],
 "metadata": {
  "interpreter": {
   "hash": "dd99ce241fc9a98adb16dacebaa58469dd0c84ca3cfa9b25e7e9cb4caa7bb934"
  },
  "kernelspec": {
   "display_name": "Python 3.9.7 ('pt110env')",
   "language": "python",
   "name": "python3"
  },
  "language_info": {
   "codemirror_mode": {
    "name": "ipython",
    "version": 3
   },
   "file_extension": ".py",
   "mimetype": "text/x-python",
   "name": "python",
   "nbconvert_exporter": "python",
   "pygments_lexer": "ipython3",
   "version": "3.9.7"
  },
  "orig_nbformat": 4
 },
 "nbformat": 4,
 "nbformat_minor": 2
}
