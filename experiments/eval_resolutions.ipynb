{
 "cells": [
  {
   "cell_type": "code",
   "execution_count": 8,
   "metadata": {},
   "outputs": [],
   "source": [
    "import json\n",
    "from tqdm import tqdm\n",
    "from pathlib import Path\n",
    "from collections import defaultdict, OrderedDict\n",
    "from PIL import Image\n",
    "import torch\n",
    "import torchvision.transforms.functional as tvf\n",
    "torch.set_grad_enabled(False)\n",
    "\n",
    "\n",
    "# test set root directory\n",
    "images_root = Path('d:/datasets/improcessing/clic/test-2022')\n",
    "# resolutions to test\n",
    "resolutions = [192, 256, 384, 512, 768, 1024, 1536, 2048]\n",
    "\n",
    "device = torch.device('cuda:0')"
   ]
  },
  {
   "cell_type": "code",
   "execution_count": 9,
   "metadata": {},
   "outputs": [
    {
     "name": "stdout",
     "output_type": "stream",
     "text": [
      "image longest side: min=2048, max=2048\n"
     ]
    }
   ],
   "source": [
    "# image paths\n",
    "img_paths = list(images_root.rglob('*.*'))\n",
    "# test set statistics\n",
    "images = [Image.open(impath) for impath in img_paths]\n",
    "longsides = [max(img.height, img.width) for img in images]\n",
    "print(f'image longest side: min={min(longsides)}, max={max(longsides)}')"
   ]
  },
  {
   "cell_type": "code",
   "execution_count": 10,
   "metadata": {},
   "outputs": [],
   "source": [
    "def scale_image(img: Image.Image, longside: int):\n",
    "    old_hw = (img.height, img.width)\n",
    "    if max(old_hw) != longside:\n",
    "        ratio = longside / max(old_hw)\n",
    "        new_h = round(old_hw[0] * ratio)\n",
    "        new_w = round(old_hw[1] * ratio)\n",
    "        img = img.resize(size=(new_w, new_h), resample=Image.BICUBIC)\n",
    "    return img\n",
    "\n",
    "def crop_divisible(img: Image.Image, div=64):\n",
    "    old_hw = (img.height, img.width)\n",
    "    if old_hw[0] % div == 0 and old_hw[1] % div == 0:\n",
    "        return img\n",
    "    h_new = div * (old_hw[0] // div)\n",
    "    w_new = div * (old_hw[1] // div)\n",
    "    top = (old_hw[0] - h_new) // 2\n",
    "    left = (old_hw[1] - w_new) // 2\n",
    "    img = img.crop(box=[left, top, left+w_new, top+h_new])\n",
    "    return img\n",
    "\n",
    "@torch.no_grad()\n",
    "def evaluate_model(model, im_longside):\n",
    "    all_image_stats = defaultdict(float)\n",
    "    for img in images:\n",
    "        img = scale_image(img, im_longside)\n",
    "        img = crop_divisible(img)\n",
    "        im = tvf.to_tensor(img).unsqueeze_(0).to(device=device)\n",
    "        stats = model.forward_eval(im)\n",
    "        for k, v in stats.items():\n",
    "            all_image_stats[k] += float(v)\n",
    "        all_image_stats['count'] += 1\n",
    "    # average over all images\n",
    "    count = all_image_stats.pop('count')\n",
    "    results = {k: v/count for k,v in all_image_stats.items()}\n",
    "    return results"
   ]
  },
  {
   "cell_type": "code",
   "execution_count": 4,
   "metadata": {},
   "outputs": [
    {
     "name": "stderr",
     "output_type": "stream",
     "text": [
      "100%|██████████| 8/8 [04:36<00:00, 34.60s/it]\n"
     ]
    }
   ],
   "source": [
    "from mycv.models.vae.qres import qres34m\n",
    "# model checkpoints root directory\n",
    "weights_root = Path.cwd() / 'd:/projects/mycv-pytorch/mycv/weights/my-vaes/dh-64s4x'\n",
    "# model checkpoints root directory\n",
    "save_json_path = Path().cwd() / '../results/clic-test-qres34m.json'\n",
    "\n",
    "def evaluate_all_models_at_res(im_longside):\n",
    "    all_model_stats = defaultdict(list)\n",
    "    for lmb in [16, 32, 64, 128, 256, 512, 1024, 2048]:\n",
    "        # initialize model\n",
    "        model = qres34m(lmb=lmb)\n",
    "\n",
    "        wpath = weights_root / f'dh_64s4x-lmb{lmb}/last_ema.pt'\n",
    "        model.load_state_dict(torch.load(wpath)['model'])\n",
    "        # uncomment to get real entropy coding bpp (rather than theoretical bpp)\n",
    "        # model.compress_mode()\n",
    "\n",
    "        model = model.to(device=device).eval()\n",
    "        results = evaluate_model(model, im_longside=im_longside)\n",
    "\n",
    "        all_model_stats['lambda'].append(lmb)\n",
    "        for k,v in results.items():\n",
    "            all_model_stats[k].append(v)\n",
    "    return all_model_stats\n",
    "\n",
    "\n",
    "all_resoutions_stats = OrderedDict()\n",
    "for res in tqdm(resolutions):\n",
    "    stats = evaluate_all_models_at_res(im_longside=res)\n",
    "\n",
    "    all_resoutions_stats[res] = stats\n",
    "    with open(save_json_path, 'w') as f:\n",
    "        json.dump(all_resoutions_stats, fp=f, indent=4)"
   ]
  },
  {
   "cell_type": "code",
   "execution_count": 11,
   "metadata": {},
   "outputs": [],
   "source": [
    "import compressai.zoo\n",
    "import torch.nn.functional as tnf\n",
    "\n",
    "class CompressAIWrapper():\n",
    "    def __init__(self, name, q):\n",
    "        super().__init__()\n",
    "        self.nic_model = compressai.zoo.models[name](quality=q, pretrained=True)\n",
    "        self.nic_model = self.nic_model.to(device=device)\n",
    "        self.nic_model.eval()\n",
    "\n",
    "    def forward_eval(self, im):\n",
    "        output = self.nic_model(im)\n",
    "        mse = tnf.mse_loss(output['x_hat'], im, reduction='mean')\n",
    "        likelihoods = output['likelihoods']\n",
    "        imH, imW = im.shape[2:4]\n",
    "        bpp_z   = - torch.log2(likelihoods['y']).sum(dim=(1,2,3)).mean(0) / float(imH * imW)\n",
    "        bpp_hyp = - torch.log2(likelihoods['z']).sum(dim=(1,2,3)).mean(0) / float(imH * imW)\n",
    "        bpp = bpp_z + bpp_hyp\n",
    "\n",
    "        # logging\n",
    "        stats = {\n",
    "            'bppix': bpp.cpu().item(),\n",
    "            'psnr': -10.0 * torch.log10(mse.cpu()).item(),\n",
    "        }\n",
    "        return stats\n",
    "\n",
    "def evaluate_compressai_at_res(name, im_longside):\n",
    "    all_model_stats = defaultdict(list)\n",
    "    max_q = 6 if (name == 'cheng2020-anchor') else 8\n",
    "    for q in range(1, max_q+1):\n",
    "        # initialize model\n",
    "        model = CompressAIWrapper(name, q)\n",
    "        results = evaluate_model(model, im_longside=im_longside)\n",
    "\n",
    "        all_model_stats['quality'].append(q)\n",
    "        for k,v in results.items():\n",
    "            all_model_stats[k].append(v)\n",
    "    return all_model_stats\n",
    "\n",
    "def evaluate_compressai_at_all_res(name):\n",
    "    save_json_path = Path().cwd() / f'../results/clic-test-{name}.json'\n",
    "    all_resoutions_stats = OrderedDict()\n",
    "    pbar = tqdm(resolutions)\n",
    "    for res in pbar:\n",
    "        pbar.set_description(f'model: {name}, resolution: {res}')\n",
    "        stats = evaluate_compressai_at_res(name, im_longside=res)\n",
    "\n",
    "        all_resoutions_stats[res] = stats\n",
    "        with open(save_json_path, 'w') as f:\n",
    "            json.dump(all_resoutions_stats, fp=f, indent=4)"
   ]
  },
  {
   "cell_type": "code",
   "execution_count": 12,
   "metadata": {},
   "outputs": [
    {
     "name": "stderr",
     "output_type": "stream",
     "text": [
      "model: cheng2020-anchor, resolution: 2048: 100%|██████████| 8/8 [02:06<00:00, 15.79s/it]\n"
     ]
    }
   ],
   "source": [
    "# model checkpoints root directory\n",
    "evaluate_compressai_at_all_res('cheng2020-anchor')"
   ]
  },
  {
   "cell_type": "code",
   "execution_count": 14,
   "metadata": {},
   "outputs": [
    {
     "name": "stderr",
     "output_type": "stream",
     "text": [
      "model: mbt2018, resolution: 2048: 100%|██████████| 8/8 [01:41<00:00, 12.73s/it]\n"
     ]
    }
   ],
   "source": [
    "# model checkpoints root directory\n",
    "evaluate_compressai_at_all_res('mbt2018')"
   ]
  }
 ],
 "metadata": {
  "kernelspec": {
   "display_name": "Python 3.9.7 ('pt110env')",
   "language": "python",
   "name": "python3"
  },
  "language_info": {
   "codemirror_mode": {
    "name": "ipython",
    "version": 3
   },
   "file_extension": ".py",
   "mimetype": "text/x-python",
   "name": "python",
   "nbconvert_exporter": "python",
   "pygments_lexer": "ipython3",
   "version": "3.9.7"
  },
  "orig_nbformat": 4,
  "vscode": {
   "interpreter": {
    "hash": "dd99ce241fc9a98adb16dacebaa58469dd0c84ca3cfa9b25e7e9cb4caa7bb934"
   }
  }
 },
 "nbformat": 4,
 "nbformat_minor": 2
}
